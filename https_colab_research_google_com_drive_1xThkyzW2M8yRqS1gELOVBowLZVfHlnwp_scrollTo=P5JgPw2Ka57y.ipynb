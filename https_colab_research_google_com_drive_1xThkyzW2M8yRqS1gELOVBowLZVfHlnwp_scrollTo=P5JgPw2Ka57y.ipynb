{
  "nbformat": 4,
  "nbformat_minor": 0,
  "metadata": {
    "colab": {
      "provenance": []
    },
    "kernelspec": {
      "name": "python3",
      "display_name": "Python 3"
    },
    "language_info": {
      "name": "python"
    }
  },
  "cells": [
    {
      "cell_type": "code",
      "execution_count": null,
      "metadata": {
        "id": "vKP8O5lJpkWq"
      },
      "outputs": [],
      "source": [
        "https://colab.research.google.com/drive/1xThkyzW2M8yRqS1gELOVBowLZVfHlnwp#scrollTo=P5JgPw2Ka57y"
      ]
    }
  ]
}