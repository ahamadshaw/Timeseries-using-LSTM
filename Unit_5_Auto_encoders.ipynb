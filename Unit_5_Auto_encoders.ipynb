{
  "nbformat": 4,
  "nbformat_minor": 0,
  "metadata": {
    "colab": {
      "provenance": []
    },
    "kernelspec": {
      "name": "python3",
      "display_name": "Python 3"
    },
    "language_info": {
      "name": "python"
    }
  },
  "cells": [
    {
      "cell_type": "markdown",
      "source": [
        "Autoencoder CNN model\n"
      ],
      "metadata": {
        "id": "_5SeuiJ-rcGb"
      }
    },
    {
      "cell_type": "code",
      "source": [
        "import tensorflow as tf\n",
        "from tensorflow.keras.layers import Input, Conv2D, MaxPooling2D, UpSampling2D\n",
        "from tensorflow.keras.models import Model\n",
        "from tensorflow.keras.datasets import mnist\n",
        "import numpy as np\n",
        "import matplotlib.pyplot as plt"
      ],
      "metadata": {
        "id": "6uB5w9ePpA8Q"
      },
      "execution_count": null,
      "outputs": []
    },
    {
      "cell_type": "code",
      "source": [
        "# Load and preprocess the MNIST dataset\n",
        "(x_train, _), (x_test, _) = mnist.load_data()\n",
        "x_train = x_train.astype('float32') / 255.0\n",
        "x_test = x_test.astype('float32') / 255.0\n",
        "x_train = np.expand_dims(x_train, axis=-1)\n",
        "x_test = np.expand_dims(x_test, axis=-1)"
      ],
      "metadata": {
        "colab": {
          "base_uri": "https://localhost:8080/"
        },
        "id": "aava9KripC5-",
        "outputId": "e4b83ba2-59c4-4ca5-8d6f-bfb8c5cd2306"
      },
      "execution_count": null,
      "outputs": [
        {
          "output_type": "stream",
          "name": "stdout",
          "text": [
            "Downloading data from https://storage.googleapis.com/tensorflow/tf-keras-datasets/mnist.npz\n",
            "11490434/11490434 [==============================] - 0s 0us/step\n"
          ]
        }
      ]
    },
    {
      "cell_type": "code",
      "source": [
        "# Define the architecture of the Convolutional Autoencoder\n",
        "def convolutional_autoencoder(input_shape):\n",
        "    # Encoder\n",
        "    input_layer = Input(shape=input_shape)\n",
        "\n",
        "    x = Conv2D(16, (3, 3), activation='relu', padding='same')(input_layer)\n",
        "    x = MaxPooling2D((2, 2), padding='same')(x)\n",
        "\n",
        "    x = Conv2D(8, (3, 3), activation='relu', padding='same')(x)\n",
        "    x = MaxPooling2D((2, 2), padding='same')(x)\n",
        "\n",
        "    x = Conv2D(4, (3, 3), activation='relu', padding='same')(x)\n",
        "    encoded = MaxPooling2D((2, 2), padding='same')(x)\n",
        "\n",
        "    # Decoder\n",
        "    x = Conv2D(4, (3, 3), activation='relu', padding='same')(encoded)\n",
        "    x = UpSampling2D((2, 2))(x)\n",
        "\n",
        "    x = Conv2D(8, (3, 3), activation='relu', padding='same')(x)\n",
        "    x = UpSampling2D((2, 2))(x)\n",
        "\n",
        "    x = Conv2D(16, (3, 3), activation='relu')(x)\n",
        "    x = UpSampling2D((2, 2))(x)\n",
        "\n",
        "    decoded = Conv2D(1, (3, 3), activation='sigmoid', padding='same')(x)\n",
        "\n",
        "    # Model\n",
        "    autoencoder = Model(input_layer, decoded)\n",
        "    autoencoder.compile(optimizer='adam', loss='binary_crossentropy')\n",
        "\n",
        "    return autoencoder\n"
      ],
      "metadata": {
        "id": "W6EkwwDdpJkR"
      },
      "execution_count": null,
      "outputs": []
    },
    {
      "cell_type": "code",
      "source": [
        "# Create the Convolutional Autoencoder model\n",
        "input_shape = (28, 28, 1)  # MNIST images are 28x28 pixels\n",
        "cnn_autoencoder = convolutional_autoencoder(input_shape)\n"
      ],
      "metadata": {
        "id": "6q0NNBcSpNSU"
      },
      "execution_count": null,
      "outputs": []
    },
    {
      "cell_type": "code",
      "source": [
        "# Display the architecture of the model\n",
        "cnn_autoencoder.summary()\n",
        "\n",
        "# Train the Convolutional Autoencoder\n",
        "epochs = 5\n",
        "batch_size = 128\n",
        "\n",
        "cnn_autoencoder.fit(x_train, x_train,\n",
        "                    epochs=epochs,\n",
        "                    batch_size=batch_size,\n",
        "                    shuffle=True,\n",
        "                    validation_data=(x_test, x_test))\n"
      ],
      "metadata": {
        "colab": {
          "base_uri": "https://localhost:8080/"
        },
        "id": "vU3KtEcIpQ0h",
        "outputId": "0bace728-b689-4077-e263-750aba72521b"
      },
      "execution_count": null,
      "outputs": [
        {
          "output_type": "stream",
          "name": "stdout",
          "text": [
            "Model: \"model\"\n",
            "_________________________________________________________________\n",
            " Layer (type)                Output Shape              Param #   \n",
            "=================================================================\n",
            " input_1 (InputLayer)        [(None, 28, 28, 1)]       0         \n",
            "                                                                 \n",
            " conv2d (Conv2D)             (None, 28, 28, 16)        160       \n",
            "                                                                 \n",
            " max_pooling2d (MaxPooling2  (None, 14, 14, 16)        0         \n",
            " D)                                                              \n",
            "                                                                 \n",
            " conv2d_1 (Conv2D)           (None, 14, 14, 8)         1160      \n",
            "                                                                 \n",
            " max_pooling2d_1 (MaxPoolin  (None, 7, 7, 8)           0         \n",
            " g2D)                                                            \n",
            "                                                                 \n",
            " conv2d_2 (Conv2D)           (None, 7, 7, 4)           292       \n",
            "                                                                 \n",
            " max_pooling2d_2 (MaxPoolin  (None, 4, 4, 4)           0         \n",
            " g2D)                                                            \n",
            "                                                                 \n",
            " conv2d_3 (Conv2D)           (None, 4, 4, 4)           148       \n",
            "                                                                 \n",
            " up_sampling2d (UpSampling2  (None, 8, 8, 4)           0         \n",
            " D)                                                              \n",
            "                                                                 \n",
            " conv2d_4 (Conv2D)           (None, 8, 8, 8)           296       \n",
            "                                                                 \n",
            " up_sampling2d_1 (UpSamplin  (None, 16, 16, 8)         0         \n",
            " g2D)                                                            \n",
            "                                                                 \n",
            " conv2d_5 (Conv2D)           (None, 14, 14, 16)        1168      \n",
            "                                                                 \n",
            " up_sampling2d_2 (UpSamplin  (None, 28, 28, 16)        0         \n",
            " g2D)                                                            \n",
            "                                                                 \n",
            " conv2d_6 (Conv2D)           (None, 28, 28, 1)         145       \n",
            "                                                                 \n",
            "=================================================================\n",
            "Total params: 3369 (13.16 KB)\n",
            "Trainable params: 3369 (13.16 KB)\n",
            "Non-trainable params: 0 (0.00 Byte)\n",
            "_________________________________________________________________\n",
            "Epoch 1/5\n",
            "469/469 [==============================] - 65s 138ms/step - loss: 0.1515 - val_loss: 0.1457\n",
            "Epoch 2/5\n",
            "469/469 [==============================] - 68s 144ms/step - loss: 0.1413 - val_loss: 0.1357\n",
            "Epoch 3/5\n",
            "469/469 [==============================] - 67s 144ms/step - loss: 0.1340 - val_loss: 0.1304\n",
            "Epoch 4/5\n",
            "469/469 [==============================] - 61s 130ms/step - loss: 0.1294 - val_loss: 0.1269\n",
            "Epoch 5/5\n",
            "469/469 [==============================] - 61s 131ms/step - loss: 0.1260 - val_loss: 0.1239\n"
          ]
        },
        {
          "output_type": "execute_result",
          "data": {
            "text/plain": [
              "<keras.src.callbacks.History at 0x795198254490>"
            ]
          },
          "metadata": {},
          "execution_count": 7
        }
      ]
    },
    {
      "cell_type": "code",
      "source": [
        "# Predictions on the test set\n",
        "decoded_images = cnn_autoencoder.predict(x_test)"
      ],
      "metadata": {
        "colab": {
          "base_uri": "https://localhost:8080/"
        },
        "id": "gRhhQYZSpVZH",
        "outputId": "07d1ab22-0329-4b11-a76f-dfad9d7e038c"
      },
      "execution_count": null,
      "outputs": [
        {
          "output_type": "stream",
          "name": "stdout",
          "text": [
            "313/313 [==============================] - 4s 11ms/step\n"
          ]
        }
      ]
    },
    {
      "cell_type": "code",
      "source": [
        "# Display original and reconstructed images\n",
        "n = 10\n",
        "plt.figure(figsize=(20, 4))\n",
        "for i in range(n):\n",
        "    # Display original images\n",
        "    ax = plt.subplot(2, n, i + 1)\n",
        "    plt.imshow(x_test[i].reshape(28, 28))\n",
        "    plt.gray()\n",
        "    ax.get_xaxis().set_visible(False)\n",
        "    ax.get_yaxis().set_visible(False)\n",
        "\n",
        "# Display reconstructed images\n",
        "    ax = plt.subplot(2, n, i + 1 + n)\n",
        "    plt.imshow(decoded_images[i].reshape(28, 28))\n",
        "    plt.gray()\n",
        "    ax.get_xaxis().set_visible(False)\n",
        "    ax.get_yaxis().set_visible(False)\n",
        "\n",
        "plt.show()"
      ],
      "metadata": {
        "colab": {
          "base_uri": "https://localhost:8080/",
          "height": 304
        },
        "id": "V8M_HBUipZN_",
        "outputId": "ca96b864-4578-427c-88a1-78a90f1f0d3e"
      },
      "execution_count": null,
      "outputs": [
        {
          "output_type": "display_data",
          "data": {
            "text/plain": [
              "<Figure size 2000x400 with 20 Axes>"
            ],
            "image/png": "[encoded data removed]"
          },
          "metadata": {}
        }
      ]
    },
    {
      "cell_type": "markdown",
      "source": [
        "Stacked"
      ],
      "metadata": {
        "id": "lpARNYa5rZP_"
      }
    },
    {
      "cell_type": "code",
      "source": [
        "import tensorflow as tf\n",
        "from tensorflow.keras.layers import Input, Dense\n",
        "from tensorflow.keras.models import Model\n",
        "from tensorflow.keras.datasets import mnist\n",
        "import numpy as np\n",
        "import matplotlib.pyplot as plt\n",
        "\n",
        "# Load and preprocess the MNIST dataset\n",
        "(x_train, _), (x_test, _) = mnist.load_data()\n",
        "x_train = x_train.astype('float32') / 255.0\n",
        "x_test = x_test.astype('float32') / 255.0\n",
        "x_train = x_train.reshape((len(x_train), np.prod(x_train.shape[1:])))\n",
        "x_test = x_test.reshape((len(x_test), np.prod(x_test.shape[1:])))\n",
        "\n",
        "# Define the architecture of the Stacked Autoencoder\n",
        "def stacked_autoencoder(encoding_dims):\n",
        "    input_layer = Input(shape=(784,))\n",
        "\n",
        "    # Encoder\n",
        "    encoded = input_layer\n",
        "    for dim in encoding_dims:\n",
        "        encoded = Dense(dim, activation='relu')(encoded)\n",
        "\n",
        "    # Decoder\n",
        "    decoded = encoded\n",
        "    for dim in reversed(encoding_dims[:-1]):\n",
        "        decoded = Dense(dim, activation='relu')(decoded)\n",
        "    decoded = Dense(784, activation='sigmoid')(decoded)\n",
        "\n",
        "    # Model\n",
        "    autoencoder = Model(input_layer, decoded)\n",
        "    autoencoder.compile(optimizer='adam', loss='binary_crossentropy')\n",
        "\n",
        "    return autoencoder\n",
        "\n",
        "# Set the encoding dimensions for each layer\n",
        "encoding_dimensions = [256, 128, 64]\n",
        "\n",
        "# Create the Stacked Autoencoder model\n",
        "stacked_autoencoder_model = stacked_autoencoder(encoding_dimensions)\n",
        "\n",
        "# Display the architecture of the model\n",
        "stacked_autoencoder_model.summary()\n",
        "\n",
        "# Train the Stacked Autoencoder\n",
        "epochs = 10\n",
        "batch_size = 256\n",
        "\n",
        "stacked_autoencoder_model.fit(x_train, x_train,\n",
        "                              epochs=epochs,\n",
        "                              batch_size=batch_size,\n",
        "                              shuffle=True,\n",
        "                              validation_data=(x_test, x_test))\n",
        "\n",
        "# Predictions on the test set\n",
        "decoded_images = stacked_autoencoder_model.predict(x_test)\n",
        "\n",
        "# Display original and reconstructed images\n",
        "n = 10\n",
        "plt.figure(figsize=(20, 4))\n",
        "for i in range(n):\n",
        "    # Display original images\n",
        "    ax = plt.subplot(2, n, i + 1)\n",
        "    plt.imshow(x_test[i].reshape(28, 28))\n",
        "    plt.gray()\n",
        "    ax.get_xaxis().set_visible(False)\n",
        "    ax.get_yaxis().set_visible(False)\n",
        "\n",
        "    # Display reconstructed images\n",
        "    ax = plt.subplot(2, n, i + 1 + n)\n",
        "    plt.imshow(decoded_images[i].reshape(28, 28))\n",
        "    plt.gray()\n",
        "    ax.get_xaxis().set_visible(False)\n",
        "    ax.get_yaxis().set_visible(False)\n",
        "\n",
        "plt.show()\n"
      ],
      "metadata": {
        "colab": {
          "base_uri": "https://localhost:8080/",
          "height": 1000
        },
        "id": "TzMktCs4sLpG",
        "outputId": "72fac9a1-a7cb-4fc7-9b93-2980ae8f1e23"
      },
      "execution_count": null,
      "outputs": [
        {
          "output_type": "stream",
          "name": "stdout",
          "text": [
            "Model: \"model_1\"\n",
            "_________________________________________________________________\n",
            " Layer (type)                Output Shape              Param #   \n",
            "=================================================================\n",
            " input_2 (InputLayer)        [(None, 784)]             0         \n",
            "                                                                 \n",
            " dense_6 (Dense)             (None, 256)               200960    \n",
            "                                                                 \n",
            " dense_7 (Dense)             (None, 128)               32896     \n",
            "                                                                 \n",
            " dense_8 (Dense)             (None, 64)                8256      \n",
            "                                                                 \n",
            " dense_9 (Dense)             (None, 128)               8320      \n",
            "                                                                 \n",
            " dense_10 (Dense)            (None, 256)               33024     \n",
            "                                                                 \n",
            " dense_11 (Dense)            (None, 784)               201488    \n",
            "                                                                 \n",
            "=================================================================\n",
            "Total params: 484944 (1.85 MB)\n",
            "Trainable params: 484944 (1.85 MB)\n",
            "Non-trainable params: 0 (0.00 Byte)\n",
            "_________________________________________________________________\n",
            "Epoch 1/10\n",
            "235/235 [==============================] - 8s 27ms/step - loss: 0.2141 - val_loss: 0.1386\n",
            "Epoch 2/10\n",
            "235/235 [==============================] - 5s 21ms/step - loss: 0.1258 - val_loss: 0.1136\n",
            "Epoch 3/10\n",
            "235/235 [==============================] - 6s 26ms/step - loss: 0.1091 - val_loss: 0.1023\n",
            "Epoch 4/10\n",
            "235/235 [==============================] - 5s 22ms/step - loss: 0.1011 - val_loss: 0.0973\n",
            "Epoch 5/10\n",
            "235/235 [==============================] - 5s 22ms/step - loss: 0.0965 - val_loss: 0.0941\n",
            "Epoch 6/10\n",
            "235/235 [==============================] - 6s 26ms/step - loss: 0.0932 - val_loss: 0.0910\n",
            "Epoch 7/10\n",
            "235/235 [==============================] - 5s 23ms/step - loss: 0.0907 - val_loss: 0.0894\n",
            "Epoch 8/10\n",
            "235/235 [==============================] - 6s 26ms/step - loss: 0.0888 - val_loss: 0.0877\n",
            "Epoch 9/10\n",
            "235/235 [==============================] - 5s 23ms/step - loss: 0.0873 - val_loss: 0.0858\n",
            "Epoch 10/10\n",
            "235/235 [==============================] - 6s 26ms/step - loss: 0.0860 - val_loss: 0.0848\n",
            "313/313 [==============================] - 1s 2ms/step\n"
          ]
        },
        {
          "output_type": "display_data",
          "data": {
            "text/plain": [
              "<Figure size 2000x400 with 20 Axes>"
            ],
            "image/png": "[encoded data removed]"
          },
          "metadata": {}
        }
      ]
    },
    {
      "cell_type": "markdown",
      "source": [
        "Deep Autoencoder\n"
      ],
      "metadata": {
        "id": "ooGJJiVBUkyM"
      }
    },
    {
      "cell_type": "code",
      "source": [
        "import tensorflow as tf\n",
        "from tensorflow.keras.layers import Input, Dense\n",
        "from tensorflow.keras.models import Model\n",
        "from tensorflow.keras.datasets import mnist\n",
        "import numpy as np\n",
        "import matplotlib.pyplot as plt\n",
        "\n",
        "# Load and preprocess the MNIST dataset\n",
        "(x_train, _), (x_test, _) = mnist.load_data()\n",
        "x_train = x_train.astype('float32') / 255.0\n",
        "x_test = x_test.astype('float32') / 255.0\n",
        "x_train = x_train.reshape((len(x_train), np.prod(x_train.shape[1:])))\n",
        "x_test = x_test.reshape((len(x_test), np.prod(x_test.shape[1:])))\n",
        "\n",
        "# Define the architecture of the Deep Autoencoder\n",
        "def deep_autoencoder(encoding_dim):\n",
        "    input_layer = Input(shape=(784,))\n",
        "\n",
        "    # Encoder\n",
        "    encoded = Dense(128, activation='relu')(input_layer)\n",
        "    encoded = Dense(64, activation='relu')(encoded)\n",
        "    encoded = Dense(32, activation='relu')(encoded)\n",
        "\n",
        "    # Decoder\n",
        "    decoded = Dense(64, activation='relu')(encoded)\n",
        "    decoded = Dense(128, activation='relu')(decoded)\n",
        "    decoded = Dense(784, activation='sigmoid')(decoded)\n",
        "\n",
        "    # Model\n",
        "    autoencoder = Model(input_layer, decoded)\n",
        "    autoencoder.compile(optimizer='adam', loss='binary_crossentropy')\n",
        "\n",
        "    return autoencoder\n",
        "\n",
        "# Create the Deep Autoencoder model\n",
        "autoencoder = deep_autoencoder(encoding_dim=32)\n",
        "\n",
        "# Display the architecture of the model\n",
        "autoencoder.summary()\n",
        "\n",
        "# Train the Deep Autoencoder\n",
        "epochs = 20\n",
        "batch_size = 256\n",
        "\n",
        "autoencoder.fit(x_train, x_train,\n",
        "                epochs=epochs,\n",
        "                batch_size=batch_size,\n",
        "                shuffle=True,\n",
        "                validation_data=(x_test, x_test))\n",
        "\n",
        "# Predictions on the test set\n",
        "decoded_images = autoencoder.predict(x_test)\n",
        "\n",
        "# Display original and reconstructed images\n",
        "n = 10\n",
        "plt.figure(figsize=(20, 4))\n",
        "for i in range(n):\n",
        "    # Display original images\n",
        "    ax = plt.subplot(2, n, i + 1)\n",
        "    plt.imshow(x_test[i].reshape(28, 28))\n",
        "    plt.gray()\n",
        "    ax.get_xaxis().set_visible(False)\n",
        "    ax.get_yaxis().set_visible(False)\n",
        "\n",
        "    # Display reconstructed images\n",
        "    ax = plt.subplot(2, n, i + 1 + n)\n",
        "    plt.imshow(decoded_images[i].reshape(28, 28))\n",
        "    plt.gray()\n",
        "    ax.get_xaxis().set_visible(False)\n",
        "    ax.get_yaxis().set_visible(False)\n",
        "\n",
        "plt.show()\n"
      ],
      "metadata": {
        "id": "m28wcZRptpp1",
        "colab": {
          "base_uri": "https://localhost:8080/",
          "height": 1000
        },
        "outputId": "a22cc95d-6144-4faa-890f-64c0254889b4"
      },
      "execution_count": null,
      "outputs": [
        {
          "output_type": "stream",
          "name": "stdout",
          "text": [
            "Downloading data from https://storage.googleapis.com/tensorflow/tf-keras-datasets/mnist.npz\n",
            "11490434/11490434 [==============================] - 0s 0us/step\n",
            "Model: \"model\"\n",
            "_________________________________________________________________\n",
            " Layer (type)                Output Shape              Param #   \n",
            "=================================================================\n",
            " input_1 (InputLayer)        [(None, 784)]             0         \n",
            "                                                                 \n",
            " dense (Dense)               (None, 128)               100480    \n",
            "                                                                 \n",
            " dense_1 (Dense)             (None, 64)                8256      \n",
            "                                                                 \n",
            " dense_2 (Dense)             (None, 32)                2080      \n",
            "                                                                 \n",
            " dense_3 (Dense)             (None, 64)                2112      \n",
            "                                                                 \n",
            " dense_4 (Dense)             (None, 128)               8320      \n",
            "                                                                 \n",
            " dense_5 (Dense)             (None, 784)               101136    \n",
            "                                                                 \n",
            "=================================================================\n",
            "Total params: 222384 (868.69 KB)\n",
            "Trainable params: 222384 (868.69 KB)\n",
            "Non-trainable params: 0 (0.00 Byte)\n",
            "_________________________________________________________________\n",
            "Epoch 1/20\n",
            "235/235 [==============================] - 5s 15ms/step - loss: 0.2358 - val_loss: 0.1589\n",
            "Epoch 2/20\n",
            "235/235 [==============================] - 4s 15ms/step - loss: 0.1450 - val_loss: 0.1343\n",
            "Epoch 3/20\n",
            "235/235 [==============================] - 7s 29ms/step - loss: 0.1303 - val_loss: 0.1246\n",
            "Epoch 4/20\n",
            "235/235 [==============================] - 7s 29ms/step - loss: 0.1214 - val_loss: 0.1161\n",
            "Epoch 5/20\n",
            "235/235 [==============================] - 7s 30ms/step - loss: 0.1149 - val_loss: 0.1110\n",
            "Epoch 6/20\n",
            "235/235 [==============================] - 3s 14ms/step - loss: 0.1108 - val_loss: 0.1077\n",
            "Epoch 7/20\n",
            "235/235 [==============================] - 3s 14ms/step - loss: 0.1079 - val_loss: 0.1048\n",
            "Epoch 8/20\n",
            "235/235 [==============================] - 4s 18ms/step - loss: 0.1052 - val_loss: 0.1028\n",
            "Epoch 9/20\n",
            "235/235 [==============================] - 3s 15ms/step - loss: 0.1032 - val_loss: 0.1013\n",
            "Epoch 10/20\n",
            "235/235 [==============================] - 3s 14ms/step - loss: 0.1015 - val_loss: 0.0998\n",
            "Epoch 11/20\n",
            "235/235 [==============================] - 4s 19ms/step - loss: 0.0999 - val_loss: 0.0981\n",
            "Epoch 12/20\n",
            "235/235 [==============================] - 3s 14ms/step - loss: 0.0986 - val_loss: 0.0973\n",
            "Epoch 13/20\n",
            "235/235 [==============================] - 3s 15ms/step - loss: 0.0976 - val_loss: 0.0962\n",
            "Epoch 14/20\n",
            "235/235 [==============================] - 4s 17ms/step - loss: 0.0966 - val_loss: 0.0956\n",
            "Epoch 15/20\n",
            "235/235 [==============================] - 4s 16ms/step - loss: 0.0957 - val_loss: 0.0943\n",
            "Epoch 16/20\n",
            "235/235 [==============================] - 3s 14ms/step - loss: 0.0948 - val_loss: 0.0934\n",
            "Epoch 17/20\n",
            "235/235 [==============================] - 3s 15ms/step - loss: 0.0941 - val_loss: 0.0934\n",
            "Epoch 18/20\n",
            "235/235 [==============================] - 4s 18ms/step - loss: 0.0934 - val_loss: 0.0925\n",
            "Epoch 19/20\n",
            "235/235 [==============================] - 3s 14ms/step - loss: 0.0928 - val_loss: 0.0919\n",
            "Epoch 20/20\n",
            "235/235 [==============================] - 3s 14ms/step - loss: 0.0923 - val_loss: 0.0913\n",
            "313/313 [==============================] - 1s 2ms/step\n"
          ]
        },
        {
          "output_type": "display_data",
          "data": {
            "text/plain": [
              "<Figure size 2000x400 with 20 Axes>"
            ],
            "image/png": "[encoded data removed]"
          },
          "metadata": {}
        }
      ]
    },
    {
      "cell_type": "code",
      "source": [],
      "metadata": {
        "id": "3pPIQw0eUnmz"
      },
      "execution_count": null,
      "outputs": []
    },
    {
      "cell_type": "code",
      "source": [],
      "metadata": {
        "id": "CzzhOj-Tk0Sq"
      },
      "execution_count": null,
      "outputs": []
    }
  ]
}