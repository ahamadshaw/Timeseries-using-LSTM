{
  "nbformat": 4,
  "nbformat_minor": 0,
  "metadata": {
    "colab": {
      "provenance": [],
      "gpuType": "T4"
    },
    "kernelspec": {
      "name": "python3",
      "display_name": "Python 3"
    },
    "language_info": {
      "name": "python"
    },
    "accelerator": "GPU"
  },
  "cells": [
    {
      "cell_type": "code",
      "execution_count": 16,
      "metadata": {
        "id": "Th0HAX6Ebfgc"
      },
      "outputs": [],
      "source": [
        "import pandas as pd\n",
        "import numpy as np\n",
        "import tensorflow as tf\n",
        "from keras.models import Model\n",
        "from keras.layers import Dense,Input,Dropout\n"
      ]
    },
    {
      "cell_type": "code",
      "source": [
        "data_train=pd.read_csv('/content/trainset.csv')\n",
        "data_test=pd.read_csv('/content/testset.csv')"
      ],
      "metadata": {
        "id": "9536J8job7Ri"
      },
      "execution_count": 17,
      "outputs": []
    },
    {
      "cell_type": "code",
      "source": [
        "train=data_train.iloc[:,1:2]"
      ],
      "metadata": {
        "id": "oE-iR800cCfB"
      },
      "execution_count": 18,
      "outputs": []
    },
    {
      "cell_type": "code",
      "source": [
        "train.info()"
      ],
      "metadata": {
        "colab": {
          "base_uri": "https://localhost:8080/"
        },
        "id": "fUXZX3dUcVNZ",
        "outputId": "d80908ec-5d12-4876-86c1-d42667a1318e"
      },
      "execution_count": 19,
      "outputs": [
        {
          "output_type": "stream",
          "name": "stdout",
          "text": [
            "<class 'pandas.core.frame.DataFrame'>\n",
            "RangeIndex: 1259 entries, 0 to 1258\n",
            "Data columns (total 1 columns):\n",
            " #   Column  Non-Null Count  Dtype  \n",
            "---  ------  --------------  -----  \n",
            " 0   Open    1259 non-null   float64\n",
            "dtypes: float64(1)\n",
            "memory usage: 10.0 KB\n"
          ]
        }
      ]
    },
    {
      "cell_type": "code",
      "source": [
        "train=train.astype('float32')"
      ],
      "metadata": {
        "id": "laeuUhedcfCB"
      },
      "execution_count": 20,
      "outputs": []
    },
    {
      "cell_type": "code",
      "source": [
        "from sklearn.preprocessing import MinMaxScaler\n",
        "MM=MinMaxScaler(feature_range=(0,1))\n",
        "train_scaled=MM.fit_transform(train)"
      ],
      "metadata": {
        "id": "xnASU7Khcj5O"
      },
      "execution_count": 21,
      "outputs": []
    },
    {
      "cell_type": "code",
      "source": [
        "train_scaled"
      ],
      "metadata": {
        "colab": {
          "base_uri": "https://localhost:8080/"
        },
        "id": "QlMAFwwac6ty",
        "outputId": "f4c3e33c-ef20-4a18-b0bc-56e18a187d3c"
      },
      "execution_count": 22,
      "outputs": [
        {
          "output_type": "execute_result",
          "data": {
            "text/plain": [
              "array([[0.01011148],\n",
              "       [0.01388615],\n",
              "       [0.01690727],\n",
              "       ...,\n",
              "       [0.97543955],\n",
              "       [0.9674549 ],\n",
              "       [0.9607252 ]], dtype=float32)"
            ]
          },
          "metadata": {},
          "execution_count": 22
        }
      ]
    },
    {
      "cell_type": "code",
      "source": [
        "train_scaled.shape"
      ],
      "metadata": {
        "colab": {
          "base_uri": "https://localhost:8080/"
        },
        "id": "HZXmOZX5cqSa",
        "outputId": "25d66038-7354-4125-f1ea-ac63a5897b59"
      },
      "execution_count": 23,
      "outputs": [
        {
          "output_type": "execute_result",
          "data": {
            "text/plain": [
              "(1259, 1)"
            ]
          },
          "metadata": {},
          "execution_count": 23
        }
      ]
    },
    {
      "cell_type": "code",
      "source": [
        "x_train = []\n",
        "y_train = []"
      ],
      "metadata": {
        "id": "PlUsUdZScyh3"
      },
      "execution_count": 24,
      "outputs": []
    },
    {
      "cell_type": "code",
      "source": [
        "for i in range(60,1259):\n",
        "    x_train.append(train_scaled[i-60:i, 0])\n",
        "    y_train.append(train_scaled[i,0])\n",
        "x_train,y_train = np.array(x_train),np.array(y_train)"
      ],
      "metadata": {
        "id": "SI9dCfledBgI"
      },
      "execution_count": 25,
      "outputs": []
    },
    {
      "cell_type": "code",
      "source": [
        "x_train.shape"
      ],
      "metadata": {
        "colab": {
          "base_uri": "https://localhost:8080/"
        },
        "id": "8A6FKJq6dXag",
        "outputId": "65aa02c5-9b44-422e-9699-9c9e592caea2"
      },
      "execution_count": 26,
      "outputs": [
        {
          "output_type": "execute_result",
          "data": {
            "text/plain": [
              "(1199, 60)"
            ]
          },
          "metadata": {},
          "execution_count": 26
        }
      ]
    },
    {
      "cell_type": "code",
      "source": [
        "y_train.shape"
      ],
      "metadata": {
        "colab": {
          "base_uri": "https://localhost:8080/"
        },
        "id": "41srocY3dbfZ",
        "outputId": "a90c2866-34ab-43e0-d591-542aa3e7b229"
      },
      "execution_count": 27,
      "outputs": [
        {
          "output_type": "execute_result",
          "data": {
            "text/plain": [
              "(1199,)"
            ]
          },
          "metadata": {},
          "execution_count": 27
        }
      ]
    },
    {
      "cell_type": "code",
      "source": [
        "x_train = np.reshape(x_train, (x_train.shape[0],x_train.shape[1],1))\n",
        "print(x_train)"
      ],
      "metadata": {
        "colab": {
          "base_uri": "https://localhost:8080/"
        },
        "id": "-JNpfbeDdgUK",
        "outputId": "3f0051a2-2a1b-4121-c793-1d6cfd1ee45a"
      },
      "execution_count": 28,
      "outputs": [
        {
          "output_type": "stream",
          "name": "stdout",
          "text": [
            "[[[0.01011148]\n",
            "  [0.01388615]\n",
            "  [0.01690727]\n",
            "  ...\n",
            "  [0.07456192]\n",
            "  [0.06988981]\n",
            "  [0.06804702]]\n",
            "\n",
            " [[0.01388615]\n",
            "  [0.01690727]\n",
            "  [0.02109298]\n",
            "  ...\n",
            "  [0.06988981]\n",
            "  [0.06804702]\n",
            "  [0.06189516]]\n",
            "\n",
            " [[0.01690727]\n",
            "  [0.02109298]\n",
            "  [0.02115461]\n",
            "  ...\n",
            "  [0.06804702]\n",
            "  [0.06189516]\n",
            "  [0.06842378]]\n",
            "\n",
            " ...\n",
            "\n",
            " [[0.8411081 ]\n",
            "  [0.8328614 ]\n",
            "  [0.8369986 ]\n",
            "  ...\n",
            "  [0.9858649 ]\n",
            "  [0.9805695 ]\n",
            "  [0.9763771 ]]\n",
            "\n",
            " [[0.8328614 ]\n",
            "  [0.8369986 ]\n",
            "  [0.83491623]\n",
            "  ...\n",
            "  [0.9805695 ]\n",
            "  [0.9763771 ]\n",
            "  [0.97543955]]\n",
            "\n",
            " [[0.8369986 ]\n",
            "  [0.83491623]\n",
            "  [0.8503752 ]\n",
            "  ...\n",
            "  [0.9763771 ]\n",
            "  [0.97543955]\n",
            "  [0.9674549 ]]]\n"
          ]
        }
      ]
    },
    {
      "cell_type": "code",
      "source": [
        "import keras\n",
        "from keras.models import Sequential,Model\n",
        "inputs = keras.layers.Input(shape=(60,1))\n",
        "lstm_out = keras.layers.LSTM(20,return_sequences=True)(inputs)\n",
        "lstm_out = keras.layers.LSTM(40,return_sequences=True)(lstm_out)\n",
        "lstm_out = keras.layers.LSTM(50,return_sequences=True)(lstm_out)\n",
        "lstm_out = keras.layers.LSTM(70,return_sequences=True)(lstm_out)\n",
        "lstm_out = keras.layers.LSTM(80,return_sequences=True)(lstm_out)\n",
        "lstm_out = keras.layers.LSTM(100,return_sequences=True)(lstm_out)\n",
        "outputs = keras.layers.Dense(1)(lstm_out)\n",
        "\n",
        "model = keras.Model(inputs=inputs, outputs=outputs)"
      ],
      "metadata": {
        "id": "ztHFqezEdykA"
      },
      "execution_count": 30,
      "outputs": []
    },
    {
      "cell_type": "code",
      "source": [
        "model.compile(optimizer='adam',loss='binary_crossentropy')"
      ],
      "metadata": {
        "id": "8SeMGuRHd4dK"
      },
      "execution_count": 31,
      "outputs": []
    },
    {
      "cell_type": "code",
      "source": [
        "model.fit(x_train,x_train,epochs=10)"
      ],
      "metadata": {
        "colab": {
          "base_uri": "https://localhost:8080/"
        },
        "id": "Eir1l6gPeqzo",
        "outputId": "b1761ee4-8002-428d-f6b6-82fd1ad5d2d5"
      },
      "execution_count": 32,
      "outputs": [
        {
          "output_type": "stream",
          "name": "stdout",
          "text": [
            "Epoch 1/10\n",
            "38/38 [==============================] - 17s 21ms/step - loss: 0.9384\n",
            "Epoch 2/10\n",
            "38/38 [==============================] - 1s 19ms/step - loss: 0.6482\n",
            "Epoch 3/10\n",
            "38/38 [==============================] - 1s 18ms/step - loss: 0.6194\n",
            "Epoch 4/10\n",
            "38/38 [==============================] - 1s 18ms/step - loss: 0.6092\n",
            "Epoch 5/10\n",
            "38/38 [==============================] - 1s 25ms/step - loss: 0.6036\n",
            "Epoch 6/10\n",
            "38/38 [==============================] - 1s 26ms/step - loss: 0.5997\n",
            "Epoch 7/10\n",
            "38/38 [==============================] - 1s 24ms/step - loss: 0.6040\n",
            "Epoch 8/10\n",
            "38/38 [==============================] - 1s 19ms/step - loss: 0.5947\n",
            "Epoch 9/10\n",
            "38/38 [==============================] - 1s 19ms/step - loss: 0.5896\n",
            "Epoch 10/10\n",
            "38/38 [==============================] - 1s 19ms/step - loss: 0.5873\n"
          ]
        },
        {
          "output_type": "execute_result",
          "data": {
            "text/plain": [
              "<keras.callbacks.History at 0x7d1f6c25eb60>"
            ]
          },
          "metadata": {},
          "execution_count": 32
        }
      ]
    },
    {
      "cell_type": "code",
      "source": [
        "data_test"
      ],
      "metadata": {
        "colab": {
          "base_uri": "https://localhost:8080/",
          "height": 423
        },
        "id": "oNY0PghWe35C",
        "outputId": "be3861d7-db5c-4e5a-8a02-307028b29ec6"
      },
      "execution_count": 33,
      "outputs": [
        {
          "output_type": "execute_result",
          "data": {
            "text/plain": [
              "           Date         Open         High  ...        Close    Adj Close   Volume\n",
              "0    2018-01-02  1048.339966  1066.939941  ...  1065.000000  1065.000000  1237600\n",
              "1    2018-01-03  1064.310059  1086.290039  ...  1082.479980  1082.479980  1430200\n",
              "2    2018-01-04  1088.000000  1093.569946  ...  1086.400024  1086.400024  1004600\n",
              "3    2018-01-05  1094.000000  1104.250000  ...  1102.229980  1102.229980  1279100\n",
              "4    2018-01-08  1102.229980  1111.270020  ...  1106.939941  1106.939941  1047600\n",
              "..          ...          ...          ...  ...          ...          ...      ...\n",
              "120  2018-06-25  1143.599976  1143.910034  ...  1124.810059  1124.810059  2157300\n",
              "121  2018-06-26  1128.000000  1133.209961  ...  1118.459961  1118.459961  1563200\n",
              "122  2018-06-27  1121.339966  1131.836060  ...  1103.979980  1103.979980  1293900\n",
              "123  2018-06-28  1102.089966  1122.310059  ...  1114.219971  1114.219971  1072400\n",
              "124  2018-06-29  1120.000000  1128.227051  ...  1115.650024  1115.650024  1315100\n",
              "\n",
              "[125 rows x 7 columns]"
            ],
            "text/html": [
              "\n",
              "\n",
              "  <div id=\"df-679a59d7-4638-4741-9de9-4efa385cefb7\">\n",
              "    <div class=\"colab-df-container\">\n",
              "      <div>\n",
              "<style scoped>\n",
              "    .dataframe tbody tr th:only-of-type {\n",
              "        vertical-align: middle;\n",
              "    }\n",
              "\n",
              "    .dataframe tbody tr th {\n",
              "        vertical-align: top;\n",
              "    }\n",
              "\n",
              "    .dataframe thead th {\n",
              "        text-align: right;\n",
              "    }\n",
              "</style>\n",
              "<table border=\"1\" class=\"dataframe\">\n",
              "  <thead>\n",
              "    <tr style=\"text-align: right;\">\n",
              "      <th></th>\n",
              "      <th>Date</th>\n",
              "      <th>Open</th>\n",
              "      <th>High</th>\n",
              "      <th>Low</th>\n",
              "      <th>Close</th>\n",
              "      <th>Adj Close</th>\n",
              "      <th>Volume</th>\n",
              "    </tr>\n",
              "  </thead>\n",
              "  <tbody>\n",
              "    <tr>\n",
              "      <th>0</th>\n",
              "      <td>2018-01-02</td>\n",
              "      <td>1048.339966</td>\n",
              "      <td>1066.939941</td>\n",
              "      <td>1045.229980</td>\n",
              "      <td>1065.000000</td>\n",
              "      <td>1065.000000</td>\n",
              "      <td>1237600</td>\n",
              "    </tr>\n",
              "    <tr>\n",
              "      <th>1</th>\n",
              "      <td>2018-01-03</td>\n",
              "      <td>1064.310059</td>\n",
              "      <td>1086.290039</td>\n",
              "      <td>1063.209961</td>\n",
              "      <td>1082.479980</td>\n",
              "      <td>1082.479980</td>\n",
              "      <td>1430200</td>\n",
              "    </tr>\n",
              "    <tr>\n",
              "      <th>2</th>\n",
              "      <td>2018-01-04</td>\n",
              "      <td>1088.000000</td>\n",
              "      <td>1093.569946</td>\n",
              "      <td>1084.001953</td>\n",
              "      <td>1086.400024</td>\n",
              "      <td>1086.400024</td>\n",
              "      <td>1004600</td>\n",
              "    </tr>\n",
              "    <tr>\n",
              "      <th>3</th>\n",
              "      <td>2018-01-05</td>\n",
              "      <td>1094.000000</td>\n",
              "      <td>1104.250000</td>\n",
              "      <td>1092.000000</td>\n",
              "      <td>1102.229980</td>\n",
              "      <td>1102.229980</td>\n",
              "      <td>1279100</td>\n",
              "    </tr>\n",
              "    <tr>\n",
              "      <th>4</th>\n",
              "      <td>2018-01-08</td>\n",
              "      <td>1102.229980</td>\n",
              "      <td>1111.270020</td>\n",
              "      <td>1101.619995</td>\n",
              "      <td>1106.939941</td>\n",
              "      <td>1106.939941</td>\n",
              "      <td>1047600</td>\n",
              "    </tr>\n",
              "    <tr>\n",
              "      <th>...</th>\n",
              "      <td>...</td>\n",
              "      <td>...</td>\n",
              "      <td>...</td>\n",
              "      <td>...</td>\n",
              "      <td>...</td>\n",
              "      <td>...</td>\n",
              "      <td>...</td>\n",
              "    </tr>\n",
              "    <tr>\n",
              "      <th>120</th>\n",
              "      <td>2018-06-25</td>\n",
              "      <td>1143.599976</td>\n",
              "      <td>1143.910034</td>\n",
              "      <td>1112.780029</td>\n",
              "      <td>1124.810059</td>\n",
              "      <td>1124.810059</td>\n",
              "      <td>2157300</td>\n",
              "    </tr>\n",
              "    <tr>\n",
              "      <th>121</th>\n",
              "      <td>2018-06-26</td>\n",
              "      <td>1128.000000</td>\n",
              "      <td>1133.209961</td>\n",
              "      <td>1116.659058</td>\n",
              "      <td>1118.459961</td>\n",
              "      <td>1118.459961</td>\n",
              "      <td>1563200</td>\n",
              "    </tr>\n",
              "    <tr>\n",
              "      <th>122</th>\n",
              "      <td>2018-06-27</td>\n",
              "      <td>1121.339966</td>\n",
              "      <td>1131.836060</td>\n",
              "      <td>1103.619995</td>\n",
              "      <td>1103.979980</td>\n",
              "      <td>1103.979980</td>\n",
              "      <td>1293900</td>\n",
              "    </tr>\n",
              "    <tr>\n",
              "      <th>123</th>\n",
              "      <td>2018-06-28</td>\n",
              "      <td>1102.089966</td>\n",
              "      <td>1122.310059</td>\n",
              "      <td>1096.010010</td>\n",
              "      <td>1114.219971</td>\n",
              "      <td>1114.219971</td>\n",
              "      <td>1072400</td>\n",
              "    </tr>\n",
              "    <tr>\n",
              "      <th>124</th>\n",
              "      <td>2018-06-29</td>\n",
              "      <td>1120.000000</td>\n",
              "      <td>1128.227051</td>\n",
              "      <td>1115.000000</td>\n",
              "      <td>1115.650024</td>\n",
              "      <td>1115.650024</td>\n",
              "      <td>1315100</td>\n",
              "    </tr>\n",
              "  </tbody>\n",
              "</table>\n",
              "<p>125 rows × 7 columns</p>\n",
              "</div>\n",
              "      <button class=\"colab-df-convert\" onclick=\"convertToInteractive('df-679a59d7-4638-4741-9de9-4efa385cefb7')\"\n",
              "              title=\"Convert this dataframe to an interactive table.\"\n",
              "              style=\"display:none;\">\n",
              "\n",
              "  <svg xmlns=\"http://www.w3.org/2000/svg\" height=\"24px\"viewBox=\"0 0 24 24\"\n",
              "       width=\"24px\">\n",
              "    <path d=\"M0 0h24v24H0V0z\" fill=\"none\"/>\n",
              "    <path d=\"M18.56 5.44l.94 2.06.94-2.06 2.06-.94-2.06-.94-.94-2.06-.94 2.06-2.06.94zm-11 1L8.5 8.5l.94-2.06 2.06-.94-2.06-.94L8.5 2.5l-.94 2.06-2.06.94zm10 10l.94 2.06.94-2.06 2.06-.94-2.06-.94-.94-2.06-.94 2.06-2.06.94z\"/><path d=\"M17.41 7.96l-1.37-1.37c-.4-.4-.92-.59-1.43-.59-.52 0-1.04.2-1.43.59L10.3 9.45l-7.72 7.72c-.78.78-.78 2.05 0 2.83L4 21.41c.39.39.9.59 1.41.59.51 0 1.02-.2 1.41-.59l7.78-7.78 2.81-2.81c.8-.78.8-2.07 0-2.86zM5.41 20L4 18.59l7.72-7.72 1.47 1.35L5.41 20z\"/>\n",
              "  </svg>\n",
              "      </button>\n",
              "\n",
              "\n",
              "\n",
              "    <div id=\"df-991931dd-a5f6-476d-b341-0056dc3b2cd1\">\n",
              "      <button class=\"colab-df-quickchart\" onclick=\"quickchart('df-991931dd-a5f6-476d-b341-0056dc3b2cd1')\"\n",
              "              title=\"Suggest charts.\"\n",
              "              style=\"display:none;\">\n",
              "\n",
              "<svg xmlns=\"http://www.w3.org/2000/svg\" height=\"24px\"viewBox=\"0 0 24 24\"\n",
              "     width=\"24px\">\n",
              "    <g>\n",
              "        <path d=\"M19 3H5c-1.1 0-2 .9-2 2v14c0 1.1.9 2 2 2h14c1.1 0 2-.9 2-2V5c0-1.1-.9-2-2-2zM9 17H7v-7h2v7zm4 0h-2V7h2v10zm4 0h-2v-4h2v4z\"/>\n",
              "    </g>\n",
              "</svg>\n",
              "      </button>\n",
              "    </div>\n",
              "\n",
              "<style>\n",
              "  .colab-df-quickchart {\n",
              "    background-color: #E8F0FE;\n",
              "    border: none;\n",
              "    border-radius: 50%;\n",
              "    cursor: pointer;\n",
              "    display: none;\n",
              "    fill: #1967D2;\n",
              "    height: 32px;\n",
              "    padding: 0 0 0 0;\n",
              "    width: 32px;\n",
              "  }\n",
              "\n",
              "  .colab-df-quickchart:hover {\n",
              "    background-color: #E2EBFA;\n",
              "    box-shadow: 0px 1px 2px rgba(60, 64, 67, 0.3), 0px 1px 3px 1px rgba(60, 64, 67, 0.15);\n",
              "    fill: #174EA6;\n",
              "  }\n",
              "\n",
              "  [theme=dark] .colab-df-quickchart {\n",
              "    background-color: #3B4455;\n",
              "    fill: #D2E3FC;\n",
              "  }\n",
              "\n",
              "  [theme=dark] .colab-df-quickchart:hover {\n",
              "    background-color: #434B5C;\n",
              "    box-shadow: 0px 1px 3px 1px rgba(0, 0, 0, 0.15);\n",
              "    filter: drop-shadow(0px 1px 2px rgba(0, 0, 0, 0.3));\n",
              "    fill: #FFFFFF;\n",
              "  }\n",
              "</style>\n",
              "\n",
              "    <script>\n",
              "      async function quickchart(key) {\n",
              "        const containerElement = document.querySelector('#' + key);\n",
              "        const charts = await google.colab.kernel.invokeFunction(\n",
              "            'suggestCharts', [key], {});\n",
              "      }\n",
              "    </script>\n",
              "\n",
              "      <script>\n",
              "\n",
              "function displayQuickchartButton(domScope) {\n",
              "  let quickchartButtonEl =\n",
              "    domScope.querySelector('#df-991931dd-a5f6-476d-b341-0056dc3b2cd1 button.colab-df-quickchart');\n",
              "  quickchartButtonEl.style.display =\n",
              "    google.colab.kernel.accessAllowed ? 'block' : 'none';\n",
              "}\n",
              "\n",
              "        displayQuickchartButton(document);\n",
              "      </script>\n",
              "      <style>\n",
              "    .colab-df-container {\n",
              "      display:flex;\n",
              "      flex-wrap:wrap;\n",
              "      gap: 12px;\n",
              "    }\n",
              "\n",
              "    .colab-df-convert {\n",
              "      background-color: #E8F0FE;\n",
              "      border: none;\n",
              "      border-radius: 50%;\n",
              "      cursor: pointer;\n",
              "      display: none;\n",
              "      fill: #1967D2;\n",
              "      height: 32px;\n",
              "      padding: 0 0 0 0;\n",
              "      width: 32px;\n",
              "    }\n",
              "\n",
              "    .colab-df-convert:hover {\n",
              "      background-color: #E2EBFA;\n",
              "      box-shadow: 0px 1px 2px rgba(60, 64, 67, 0.3), 0px 1px 3px 1px rgba(60, 64, 67, 0.15);\n",
              "      fill: #174EA6;\n",
              "    }\n",
              "\n",
              "    [theme=dark] .colab-df-convert {\n",
              "      background-color: #3B4455;\n",
              "      fill: #D2E3FC;\n",
              "    }\n",
              "\n",
              "    [theme=dark] .colab-df-convert:hover {\n",
              "      background-color: #434B5C;\n",
              "      box-shadow: 0px 1px 3px 1px rgba(0, 0, 0, 0.15);\n",
              "      filter: drop-shadow(0px 1px 2px rgba(0, 0, 0, 0.3));\n",
              "      fill: #FFFFFF;\n",
              "    }\n",
              "  </style>\n",
              "\n",
              "      <script>\n",
              "        const buttonEl =\n",
              "          document.querySelector('#df-679a59d7-4638-4741-9de9-4efa385cefb7 button.colab-df-convert');\n",
              "        buttonEl.style.display =\n",
              "          google.colab.kernel.accessAllowed ? 'block' : 'none';\n",
              "\n",
              "        async function convertToInteractive(key) {\n",
              "          const element = document.querySelector('#df-679a59d7-4638-4741-9de9-4efa385cefb7');\n",
              "          const dataTable =\n",
              "            await google.colab.kernel.invokeFunction('convertToInteractive',\n",
              "                                                     [key], {});\n",
              "          if (!dataTable) return;\n",
              "\n",
              "          const docLinkHtml = 'Like what you see? Visit the ' +\n",
              "            '<a target=\"_blank\" href=https://colab.research.google.com/notebooks/data_table.ipynb>data table notebook</a>'\n",
              "            + ' to learn more about interactive tables.';\n",
              "          element.innerHTML = '';\n",
              "          dataTable['output_type'] = 'display_data';\n",
              "          await google.colab.output.renderOutput(dataTable, element);\n",
              "          const docLink = document.createElement('div');\n",
              "          docLink.innerHTML = docLinkHtml;\n",
              "          element.appendChild(docLink);\n",
              "        }\n",
              "      </script>\n",
              "    </div>\n",
              "  </div>\n"
            ]
          },
          "metadata": {},
          "execution_count": 33
        }
      ]
    },
    {
      "cell_type": "code",
      "source": [
        "test=data_test.iloc[:,1:2]"
      ],
      "metadata": {
        "id": "ct2_u0fMfJqn"
      },
      "execution_count": 42,
      "outputs": []
    },
    {
      "cell_type": "code",
      "source": [
        "test"
      ],
      "metadata": {
        "colab": {
          "base_uri": "https://localhost:8080/",
          "height": 423
        },
        "id": "hHCX-J55fVMI",
        "outputId": "3f24d6d3-639a-46a0-ce8e-22fd35b4637b"
      },
      "execution_count": 43,
      "outputs": [
        {
          "output_type": "execute_result",
          "data": {
            "text/plain": [
              "            Open\n",
              "0    1048.339966\n",
              "1    1064.310059\n",
              "2    1088.000000\n",
              "3    1094.000000\n",
              "4    1102.229980\n",
              "..           ...\n",
              "120  1143.599976\n",
              "121  1128.000000\n",
              "122  1121.339966\n",
              "123  1102.089966\n",
              "124  1120.000000\n",
              "\n",
              "[125 rows x 1 columns]"
            ],
            "text/html": [
              "\n",
              "\n",
              "  <div id=\"df-45cdf5b5-356e-4921-ac54-c6e876aef4b5\">\n",
              "    <div class=\"colab-df-container\">\n",
              "      <div>\n",
              "<style scoped>\n",
              "    .dataframe tbody tr th:only-of-type {\n",
              "        vertical-align: middle;\n",
              "    }\n",
              "\n",
              "    .dataframe tbody tr th {\n",
              "        vertical-align: top;\n",
              "    }\n",
              "\n",
              "    .dataframe thead th {\n",
              "        text-align: right;\n",
              "    }\n",
              "</style>\n",
              "<table border=\"1\" class=\"dataframe\">\n",
              "  <thead>\n",
              "    <tr style=\"text-align: right;\">\n",
              "      <th></th>\n",
              "      <th>Open</th>\n",
              "    </tr>\n",
              "  </thead>\n",
              "  <tbody>\n",
              "    <tr>\n",
              "      <th>0</th>\n",
              "      <td>1048.339966</td>\n",
              "    </tr>\n",
              "    <tr>\n",
              "      <th>1</th>\n",
              "      <td>1064.310059</td>\n",
              "    </tr>\n",
              "    <tr>\n",
              "      <th>2</th>\n",
              "      <td>1088.000000</td>\n",
              "    </tr>\n",
              "    <tr>\n",
              "      <th>3</th>\n",
              "      <td>1094.000000</td>\n",
              "    </tr>\n",
              "    <tr>\n",
              "      <th>4</th>\n",
              "      <td>1102.229980</td>\n",
              "    </tr>\n",
              "    <tr>\n",
              "      <th>...</th>\n",
              "      <td>...</td>\n",
              "    </tr>\n",
              "    <tr>\n",
              "      <th>120</th>\n",
              "      <td>1143.599976</td>\n",
              "    </tr>\n",
              "    <tr>\n",
              "      <th>121</th>\n",
              "      <td>1128.000000</td>\n",
              "    </tr>\n",
              "    <tr>\n",
              "      <th>122</th>\n",
              "      <td>1121.339966</td>\n",
              "    </tr>\n",
              "    <tr>\n",
              "      <th>123</th>\n",
              "      <td>1102.089966</td>\n",
              "    </tr>\n",
              "    <tr>\n",
              "      <th>124</th>\n",
              "      <td>1120.000000</td>\n",
              "    </tr>\n",
              "  </tbody>\n",
              "</table>\n",
              "<p>125 rows × 1 columns</p>\n",
              "</div>\n",
              "      <button class=\"colab-df-convert\" onclick=\"convertToInteractive('df-45cdf5b5-356e-4921-ac54-c6e876aef4b5')\"\n",
              "              title=\"Convert this dataframe to an interactive table.\"\n",
              "              style=\"display:none;\">\n",
              "\n",
              "  <svg xmlns=\"http://www.w3.org/2000/svg\" height=\"24px\"viewBox=\"0 0 24 24\"\n",
              "       width=\"24px\">\n",
              "    <path d=\"M0 0h24v24H0V0z\" fill=\"none\"/>\n",
              "    <path d=\"M18.56 5.44l.94 2.06.94-2.06 2.06-.94-2.06-.94-.94-2.06-.94 2.06-2.06.94zm-11 1L8.5 8.5l.94-2.06 2.06-.94-2.06-.94L8.5 2.5l-.94 2.06-2.06.94zm10 10l.94 2.06.94-2.06 2.06-.94-2.06-.94-.94-2.06-.94 2.06-2.06.94z\"/><path d=\"M17.41 7.96l-1.37-1.37c-.4-.4-.92-.59-1.43-.59-.52 0-1.04.2-1.43.59L10.3 9.45l-7.72 7.72c-.78.78-.78 2.05 0 2.83L4 21.41c.39.39.9.59 1.41.59.51 0 1.02-.2 1.41-.59l7.78-7.78 2.81-2.81c.8-.78.8-2.07 0-2.86zM5.41 20L4 18.59l7.72-7.72 1.47 1.35L5.41 20z\"/>\n",
              "  </svg>\n",
              "      </button>\n",
              "\n",
              "\n",
              "\n",
              "    <div id=\"df-d1539a77-32ad-483d-9f81-151cfed53a9a\">\n",
              "      <button class=\"colab-df-quickchart\" onclick=\"quickchart('df-d1539a77-32ad-483d-9f81-151cfed53a9a')\"\n",
              "              title=\"Suggest charts.\"\n",
              "              style=\"display:none;\">\n",
              "\n",
              "<svg xmlns=\"http://www.w3.org/2000/svg\" height=\"24px\"viewBox=\"0 0 24 24\"\n",
              "     width=\"24px\">\n",
              "    <g>\n",
              "        <path d=\"M19 3H5c-1.1 0-2 .9-2 2v14c0 1.1.9 2 2 2h14c1.1 0 2-.9 2-2V5c0-1.1-.9-2-2-2zM9 17H7v-7h2v7zm4 0h-2V7h2v10zm4 0h-2v-4h2v4z\"/>\n",
              "    </g>\n",
              "</svg>\n",
              "      </button>\n",
              "    </div>\n",
              "\n",
              "<style>\n",
              "  .colab-df-quickchart {\n",
              "    background-color: #E8F0FE;\n",
              "    border: none;\n",
              "    border-radius: 50%;\n",
              "    cursor: pointer;\n",
              "    display: none;\n",
              "    fill: #1967D2;\n",
              "    height: 32px;\n",
              "    padding: 0 0 0 0;\n",
              "    width: 32px;\n",
              "  }\n",
              "\n",
              "  .colab-df-quickchart:hover {\n",
              "    background-color: #E2EBFA;\n",
              "    box-shadow: 0px 1px 2px rgba(60, 64, 67, 0.3), 0px 1px 3px 1px rgba(60, 64, 67, 0.15);\n",
              "    fill: #174EA6;\n",
              "  }\n",
              "\n",
              "  [theme=dark] .colab-df-quickchart {\n",
              "    background-color: #3B4455;\n",
              "    fill: #D2E3FC;\n",
              "  }\n",
              "\n",
              "  [theme=dark] .colab-df-quickchart:hover {\n",
              "    background-color: #434B5C;\n",
              "    box-shadow: 0px 1px 3px 1px rgba(0, 0, 0, 0.15);\n",
              "    filter: drop-shadow(0px 1px 2px rgba(0, 0, 0, 0.3));\n",
              "    fill: #FFFFFF;\n",
              "  }\n",
              "</style>\n",
              "\n",
              "    <script>\n",
              "      async function quickchart(key) {\n",
              "        const containerElement = document.querySelector('#' + key);\n",
              "        const charts = await google.colab.kernel.invokeFunction(\n",
              "            'suggestCharts', [key], {});\n",
              "      }\n",
              "    </script>\n",
              "\n",
              "      <script>\n",
              "\n",
              "function displayQuickchartButton(domScope) {\n",
              "  let quickchartButtonEl =\n",
              "    domScope.querySelector('#df-d1539a77-32ad-483d-9f81-151cfed53a9a button.colab-df-quickchart');\n",
              "  quickchartButtonEl.style.display =\n",
              "    google.colab.kernel.accessAllowed ? 'block' : 'none';\n",
              "}\n",
              "\n",
              "        displayQuickchartButton(document);\n",
              "      </script>\n",
              "      <style>\n",
              "    .colab-df-container {\n",
              "      display:flex;\n",
              "      flex-wrap:wrap;\n",
              "      gap: 12px;\n",
              "    }\n",
              "\n",
              "    .colab-df-convert {\n",
              "      background-color: #E8F0FE;\n",
              "      border: none;\n",
              "      border-radius: 50%;\n",
              "      cursor: pointer;\n",
              "      display: none;\n",
              "      fill: #1967D2;\n",
              "      height: 32px;\n",
              "      padding: 0 0 0 0;\n",
              "      width: 32px;\n",
              "    }\n",
              "\n",
              "    .colab-df-convert:hover {\n",
              "      background-color: #E2EBFA;\n",
              "      box-shadow: 0px 1px 2px rgba(60, 64, 67, 0.3), 0px 1px 3px 1px rgba(60, 64, 67, 0.15);\n",
              "      fill: #174EA6;\n",
              "    }\n",
              "\n",
              "    [theme=dark] .colab-df-convert {\n",
              "      background-color: #3B4455;\n",
              "      fill: #D2E3FC;\n",
              "    }\n",
              "\n",
              "    [theme=dark] .colab-df-convert:hover {\n",
              "      background-color: #434B5C;\n",
              "      box-shadow: 0px 1px 3px 1px rgba(0, 0, 0, 0.15);\n",
              "      filter: drop-shadow(0px 1px 2px rgba(0, 0, 0, 0.3));\n",
              "      fill: #FFFFFF;\n",
              "    }\n",
              "  </style>\n",
              "\n",
              "      <script>\n",
              "        const buttonEl =\n",
              "          document.querySelector('#df-45cdf5b5-356e-4921-ac54-c6e876aef4b5 button.colab-df-convert');\n",
              "        buttonEl.style.display =\n",
              "          google.colab.kernel.accessAllowed ? 'block' : 'none';\n",
              "\n",
              "        async function convertToInteractive(key) {\n",
              "          const element = document.querySelector('#df-45cdf5b5-356e-4921-ac54-c6e876aef4b5');\n",
              "          const dataTable =\n",
              "            await google.colab.kernel.invokeFunction('convertToInteractive',\n",
              "                                                     [key], {});\n",
              "          if (!dataTable) return;\n",
              "\n",
              "          const docLinkHtml = 'Like what you see? Visit the ' +\n",
              "            '<a target=\"_blank\" href=https://colab.research.google.com/notebooks/data_table.ipynb>data table notebook</a>'\n",
              "            + ' to learn more about interactive tables.';\n",
              "          element.innerHTML = '';\n",
              "          dataTable['output_type'] = 'display_data';\n",
              "          await google.colab.output.renderOutput(dataTable, element);\n",
              "          const docLink = document.createElement('div');\n",
              "          docLink.innerHTML = docLinkHtml;\n",
              "          element.appendChild(docLink);\n",
              "        }\n",
              "      </script>\n",
              "    </div>\n",
              "  </div>\n"
            ]
          },
          "metadata": {},
          "execution_count": 43
        }
      ]
    },
    {
      "cell_type": "code",
      "source": [
        "test=test.astype('float32')"
      ],
      "metadata": {
        "id": "4Y0thN3nfWWx"
      },
      "execution_count": 44,
      "outputs": []
    },
    {
      "cell_type": "code",
      "source": [
        "test_scaled=MM.fit_transform(test)\n"
      ],
      "metadata": {
        "id": "StMvJBgtgjXK"
      },
      "execution_count": 45,
      "outputs": []
    },
    {
      "cell_type": "code",
      "source": [
        "test_scaled"
      ],
      "metadata": {
        "colab": {
          "base_uri": "https://localhost:8080/"
        },
        "id": "nLQQ6zabgz2i",
        "outputId": "1d7fb2cb-956a-47ee-a823-ec897f014570"
      },
      "execution_count": 46,
      "outputs": [
        {
          "output_type": "execute_result",
          "data": {
            "text/plain": [
              "array([[0.2986622 ],\n",
              "       [0.38549376],\n",
              "       [0.51429987],\n",
              "       [0.5469227 ],\n",
              "       [0.59167004],\n",
              "       [0.6306548 ],\n",
              "       [0.56377745],\n",
              "       [0.6137996 ],\n",
              "       [0.592649  ],\n",
              "       [0.7563071 ],\n",
              "       [0.7221074 ],\n",
              "       [0.75032616],\n",
              "       [0.7526097 ],\n",
              "       [0.78338385],\n",
              "       [0.9049587 ],\n",
              "       [0.9999995 ],\n",
              "       [0.97390175],\n",
              "       [0.98776627],\n",
              "       [0.9953785 ],\n",
              "       [0.9483466 ],\n",
              "       [0.96324444],\n",
              "       [0.91996527],\n",
              "       [0.6991625 ],\n",
              "       [0.5284362 ],\n",
              "       [0.18361282],\n",
              "       [0.47917604],\n",
              "       [0.33710337],\n",
              "       [0.1296215 ],\n",
              "       [0.29681396],\n",
              "       [0.28050232],\n",
              "       [0.3019786 ],\n",
              "       [0.46574545],\n",
              "       [0.5165291 ],\n",
              "       [0.5282726 ],\n",
              "       [0.6147237 ],\n",
              "       [0.6675725 ],\n",
              "       [0.6482711 ],\n",
              "       [0.7306981 ],\n",
              "       [0.8037734 ],\n",
              "       [0.70476294],\n",
              "       [0.6223359 ],\n",
              "       [0.32443428],\n",
              "       [0.4443779 ],\n",
              "       [0.57530403],\n",
              "       [0.5207696 ],\n",
              "       [0.6628423 ],\n",
              "       [0.77528286],\n",
              "       [0.92670727],\n",
              "       [0.9601455 ],\n",
              "       [0.8253584 ],\n",
              "       [0.85118484],\n",
              "       [0.8739128 ],\n",
              "       [0.6883426 ],\n",
              "       [0.5741081 ],\n",
              "       [0.5400715 ],\n",
              "       [0.48102427],\n",
              "       [0.29153967],\n",
              "       [0.2859397 ],\n",
              "       [0.37837076],\n",
              "       [0.02495623],\n",
              "       [0.09906483],\n",
              "       [0.15990639],\n",
              "       [0.11146116],\n",
              "       [0.        ],\n",
              "       [0.26054764],\n",
              "       [0.14457369],\n",
              "       [0.12717485],\n",
              "       [0.17958832],\n",
              "       [0.18801641],\n",
              "       [0.17197704],\n",
              "       [0.25810146],\n",
              "       [0.23700523],\n",
              "       [0.3151369 ],\n",
              "       [0.45682907],\n",
              "       [0.4131689 ],\n",
              "       [0.48167658],\n",
              "       [0.459167  ],\n",
              "       [0.3185625 ],\n",
              "       [0.17458677],\n",
              "       [0.19628096],\n",
              "       [0.2859397 ],\n",
              "       [0.1989994 ],\n",
              "       [0.11010218],\n",
              "       [0.18861437],\n",
              "       [0.13913631],\n",
              "       [0.12771845],\n",
              "       [0.30350113],\n",
              "       [0.35412169],\n",
              "       [0.35172892],\n",
              "       [0.5035887 ],\n",
              "       [0.54474735],\n",
              "       [0.5795455 ],\n",
              "       [0.52517414],\n",
              "       [0.45617676],\n",
              "       [0.47020435],\n",
              "       [0.37217236],\n",
              "       [0.43850613],\n",
              "       [0.49015903],\n",
              "       [0.38995218],\n",
              "       [0.4653654 ],\n",
              "       [0.46547413],\n",
              "       [0.38864708],\n",
              "       [0.37853432],\n",
              "       [0.40316486],\n",
              "       [0.5760112 ],\n",
              "       [0.7009568 ],\n",
              "       [0.80241394],\n",
              "       [0.80883026],\n",
              "       [0.74983644],\n",
              "       [0.6783929 ],\n",
              "       [0.680676  ],\n",
              "       [0.74847746],\n",
              "       [0.8031206 ],\n",
              "       [0.8179641 ],\n",
              "       [0.84520435],\n",
              "       [0.8168769 ],\n",
              "       [0.8976183 ],\n",
              "       [0.989017  ],\n",
              "       [0.9865155 ],\n",
              "       [0.90109825],\n",
              "       [0.8166051 ],\n",
              "       [0.7317853 ],\n",
              "       [0.6955738 ],\n",
              "       [0.590909  ],\n",
              "       [0.6882882 ]], dtype=float32)"
            ]
          },
          "metadata": {},
          "execution_count": 46
        }
      ]
    },
    {
      "cell_type": "code",
      "source": [
        "test_scaled.shape"
      ],
      "metadata": {
        "colab": {
          "base_uri": "https://localhost:8080/"
        },
        "id": "WPSc2s8Hg1BB",
        "outputId": "70476150-f356-41ad-e5c7-cbadb9d0bf7e"
      },
      "execution_count": 47,
      "outputs": [
        {
          "output_type": "execute_result",
          "data": {
            "text/plain": [
              "(125, 1)"
            ]
          },
          "metadata": {},
          "execution_count": 47
        }
      ]
    },
    {
      "cell_type": "code",
      "source": [
        "x_test=[]\n",
        "y_test=[]"
      ],
      "metadata": {
        "id": "-pIl0BzfhHW8"
      },
      "execution_count": 49,
      "outputs": []
    },
    {
      "cell_type": "code",
      "source": [
        "for i in range(60,125):\n",
        "    x_test.append(test_scaled[i-60:i, 0])\n",
        "    y_test.append(test_scaled[i,0])\n",
        "x_test,y_test = np.array(x_test),np.array(y_test)"
      ],
      "metadata": {
        "id": "RERqMeIwg4r5"
      },
      "execution_count": 50,
      "outputs": []
    },
    {
      "cell_type": "code",
      "source": [
        "x_test.shape"
      ],
      "metadata": {
        "colab": {
          "base_uri": "https://localhost:8080/"
        },
        "id": "fxTfc6LChXiJ",
        "outputId": "d1e7656c-34be-46ef-b2a0-b5666d04a53e"
      },
      "execution_count": 51,
      "outputs": [
        {
          "output_type": "execute_result",
          "data": {
            "text/plain": [
              "(65, 60)"
            ]
          },
          "metadata": {},
          "execution_count": 51
        }
      ]
    },
    {
      "cell_type": "code",
      "source": [
        "model.evaluate(x_test, x_test, verbose=0)"
      ],
      "metadata": {
        "colab": {
          "base_uri": "https://localhost:8080/"
        },
        "id": "U8Nhm4sGhb_Y",
        "outputId": "99541708-1056-41a0-f631-6a0bf691b780"
      },
      "execution_count": 52,
      "outputs": [
        {
          "output_type": "execute_result",
          "data": {
            "text/plain": [
              "0.7105180025100708"
            ]
          },
          "metadata": {},
          "execution_count": 52
        }
      ]
    },
    {
      "cell_type": "code",
      "source": [],
      "metadata": {
        "id": "JuWEVfsyh8zB"
      },
      "execution_count": null,
      "outputs": []
    }
  ]
}